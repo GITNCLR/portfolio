{
 "cells": [
  {
   "cell_type": "code",
   "execution_count": 3,
   "id": "3f2b66d9",
   "metadata": {},
   "outputs": [
    {
     "name": "stdout",
     "output_type": "stream",
     "text": [
      "Processed: 13.tif\n",
      "Processed: 12.tif\n",
      "Processed: 10.tif\n",
      "Processed: 11.tif\n",
      "Processed: 15.tif\n",
      "Processed: 29.tif\n",
      "Processed: 14.tif\n",
      "Processed: 16.tif\n",
      "Processed: 17.tif\n",
      "Processed: 9.tif\n",
      "Processed: 8.tif\n",
      "Processed: 3.tif\n",
      "Processed: 2.tif\n",
      "Processed: 6.tif\n",
      "Processed: 7.tif\n",
      "Processed: 26.tif\n",
      "Processed: 27.tif\n",
      "Processed: 19.tif\n",
      "Processed: 31.tif\n",
      "Processed: 25.tif\n",
      "Processed: 24.tif\n",
      "Processed: 30.tif\n",
      "Processed: 18.tif\n",
      "Processed: 20.tif\n",
      "Processed: 21.tif\n",
      "Processed: 23.tif\n",
      "Processed: 22.tif\n"
     ]
    }
   ],
   "source": [
    "import os\n",
    "from PIL import Image\n",
    "import numpy as np\n",
    "\n",
    "input_folder = \"rgba\"\n",
    "output_folder = \"rgb\"\n",
    "target_size = (1024, 1024)\n",
    "\n",
    "os.makedirs(output_folder, exist_ok=True)\n",
    "\n",
    "for filename in os.listdir(input_folder):\n",
    "    if filename.lower().endswith(('.tif', '.tiff')):\n",
    "        input_path = os.path.join(input_folder, filename)\n",
    "\n",
    "        try:\n",
    "            img = Image.open(input_path)\n",
    "\n",
    "            if img.mode == \"RGBA\":\n",
    "                img = img.convert(\"RGB\")\n",
    "\n",
    "            elif img.mode == \"I;16B\":\n",
    "                # Convert 16-bit grayscale to 8-bit RGB\n",
    "                img_np = np.array(img)\n",
    "\n",
    "                # Normalize from 16-bit to 8-bit\n",
    "                img_np = (img_np / 256).astype(np.uint8)\n",
    "\n",
    "                # Stack grayscale to 3 channels\n",
    "                img_rgb = np.stack([img_np] * 3, axis=-1)\n",
    "                img = Image.fromarray(img_rgb, mode=\"RGB\")\n",
    "\n",
    "            elif img.mode != \"RGB\":\n",
    "                img = img.convert(\"RGB\")\n",
    "\n",
    "            # Resize image\n",
    "            img = img.resize(target_size, Image.LANCZOS)\n",
    "\n",
    "            # Save image\n",
    "            output_path = os.path.join(output_folder, filename)\n",
    "            img.save(output_path)\n",
    "\n",
    "            print(f\"Processed: {filename}\")\n",
    "\n",
    "        except Exception as e:\n",
    "            print(f\"Skipping {filename} (error: {e})\")"
   ]
  }
 ],
 "metadata": {
  "kernelspec": {
   "display_name": "base",
   "language": "python",
   "name": "python3"
  },
  "language_info": {
   "codemirror_mode": {
    "name": "ipython",
    "version": 3
   },
   "file_extension": ".py",
   "mimetype": "text/x-python",
   "name": "python",
   "nbconvert_exporter": "python",
   "pygments_lexer": "ipython3",
   "version": "3.12.4"
  }
 },
 "nbformat": 4,
 "nbformat_minor": 5
}
